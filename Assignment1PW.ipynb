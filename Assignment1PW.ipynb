{
  "nbformat": 4,
  "nbformat_minor": 0,
  "metadata": {
    "colab": {
      "provenance": [],
      "authorship_tag": "ABX9TyM8hfzxxvgA8148G4GBhVLX",
      "include_colab_link": true
    },
    "kernelspec": {
      "name": "python3",
      "display_name": "Python 3"
    },
    "language_info": {
      "name": "python"
    }
  },
  "cells": [
    {
      "cell_type": "markdown",
      "metadata": {
        "id": "view-in-github",
        "colab_type": "text"
      },
      "source": [
        "<a href=\"https://colab.research.google.com/github/AvanindraBose/Hate_Crime/blob/main/Assignment1PW.ipynb\" target=\"_parent\"><img src=\"https://colab.research.google.com/assets/colab-badge.svg\" alt=\"Open In Colab\"/></a>"
      ]
    },
    {
      "cell_type": "markdown",
      "source": [
        "Assignment 1 PW"
      ],
      "metadata": {
        "id": "agtQ9XCFnmkZ"
      }
    },
    {
      "cell_type": "markdown",
      "source": [
        "**Question Number 1**"
      ],
      "metadata": {
        "id": "hm1E4pvsnd4f"
      }
    },
    {
      "cell_type": "code",
      "source": [
        "# key Features of Python\n",
        "# 1. Simple and readable Syntax\n",
        "print('Hello World')\n",
        "# 2. Interpreted Language\n",
        "# Directly execute the code in Python interpreter\n",
        "a = 5\n",
        "b = 10\n",
        "print(a + b)\n",
        "# 3. Dynamic Typing\n",
        "x = 10      # x is an integer\n",
        "x = \"Hello\" # Now x is a string\n",
        "print(x)\n",
        "# Community and Support\n",
        "# Useful packages which eases the task such as numpy and pandas"
      ],
      "metadata": {
        "colab": {
          "base_uri": "https://localhost:8080/"
        },
        "id": "Y5j1-M2nnsJA",
        "outputId": "f1782f4e-9f96-4197-8a87-aa44cbb1d344"
      },
      "execution_count": 2,
      "outputs": [
        {
          "output_type": "stream",
          "name": "stdout",
          "text": [
            "Hello World\n",
            "15\n",
            "Hello\n"
          ]
        }
      ]
    },
    {
      "cell_type": "markdown",
      "source": [
        "**Question Number 2**"
      ],
      "metadata": {
        "id": "38rvyMZxpLjb"
      }
    },
    {
      "cell_type": "code",
      "source": [
        "# Predefined keywords, also known as reserved words, are the fundamental building blocks of the Python language. These keywords have special meanings and are used to define the syntax and structure of Python programs. They cannot be used as identifiers (e.g., variable names, function names) because they are reserved for specific purposes.\n",
        "# For Ex:\n",
        "# Example: Conditional statements\n",
        "x = 10\n",
        "if x > 0:\n",
        "    print(\"Positive\")\n",
        "elif x == 0:\n",
        "    print(\"Zero\")\n",
        "else:\n",
        "    print(\"Negative\")\n",
        "# Output: Positive\n",
        "# Example: Importing modules\n",
        "import math\n",
        "from math import sqrt as square_root\n",
        "\n",
        "print(math.pi)          # Output: 3.141592653589793\n",
        "print(square_root(16))  # Output: 4.0\n"
      ],
      "metadata": {
        "colab": {
          "base_uri": "https://localhost:8080/"
        },
        "id": "IFWFmJCypRXp",
        "outputId": "0370f416-bd77-44f4-c3a3-ae99db47bad6"
      },
      "execution_count": 3,
      "outputs": [
        {
          "output_type": "stream",
          "name": "stdout",
          "text": [
            "Positive\n",
            "3.141592653589793\n",
            "4.0\n"
          ]
        }
      ]
    },
    {
      "cell_type": "markdown",
      "source": [
        "**Question Number 3**"
      ],
      "metadata": {
        "id": "HQhSUdYdplAq"
      }
    },
    {
      "cell_type": "code",
      "source": [
        "# In Python, objects can be classified into two main categories: mutable and immutable.\n",
        "# Comparison on these points\n",
        "\n",
        "# 1. Mutability\n",
        "\n",
        "# Mutable: Can be modified after creation (e.g., lists, dictionaries, sets).\n",
        "# Immutable: Cannot be modified after creation (e.g., strings, tuples, integers).\n",
        "\n",
        "# 2. Memory Efficiency:\n",
        "\n",
        "# Mutable: Changes to the object do not create a new object in memory. Instead, the existing object is updated.\n",
        "# Immutable: Any change to the object results in a new object being created in memory. The original object remains unchanged.\n",
        "\n",
        "# 3. Performance:\n",
        "\n",
        "# Mutable: Can be more efficient for large data structures that require frequent updates because the object itself is modified in place.\n",
        "# Immutable: Can be more efficient for fixed data structures because the immutability can lead to performance optimizations such as caching and reuse.\n",
        "\n",
        "# Examples\n",
        "# Mutable Objects\n",
        "# Creating a list\n",
        "my_list = [1, 2, 3]\n",
        "\n",
        "# Modifying an element in the list\n",
        "my_list[0] = 10\n",
        "\n",
        "# Adding an element to the list\n",
        "my_list.append(4)\n",
        "\n",
        "print(my_list)  # Output: [10, 2, 3, 4]\n",
        "\n",
        "# Creating a dictionary\n",
        "my_dict = {'a': 1, 'b': 2}\n",
        "\n",
        "# Modifying a value in the dictionary\n",
        "my_dict['a'] = 10\n",
        "\n",
        "# Adding a new key-value pair\n",
        "my_dict['c'] = 3\n",
        "\n",
        "print(my_dict)  # Output: {'a': 10, 'b': 2, 'c': 3}\n",
        "\n",
        "# Creating a set\n",
        "my_set = {1, 2, 3}\n",
        "\n",
        "# Adding an element to the set\n",
        "my_set.add(4)\n",
        "\n",
        "# Removing an element from the set\n",
        "my_set.remove(2)\n",
        "\n",
        "print(my_set)  # Output: {1, 3, 4}\n",
        "\n",
        "#  Example of Immutable Set\n",
        "# Creating a string\n",
        "my_string = \"hello\"\n",
        "\n",
        "# Trying to modify the string (this will raise an error)\n",
        "# my_string[0] = 'H'  # TypeError: 'str' object does not support item assignment\n",
        "\n",
        "# Instead, create a new string\n",
        "my_string = \"Hello\"\n",
        "\n",
        "print(my_string)  # Output: Hello\n",
        "\n",
        "# Creating a tuple\n",
        "my_tuple = (1, 2, 3)\n",
        "\n",
        "# Trying to modify an element in the tuple (this will raise an error)\n",
        "# my_tuple[0] = 10  # TypeError: 'tuple' object does not support item assignment\n",
        "\n",
        "# Instead, create a new tuple\n",
        "my_tuple = (10, 2, 3)\n",
        "\n",
        "print(my_tuple)  # Output: (10, 2, 3)\n"
      ],
      "metadata": {
        "colab": {
          "base_uri": "https://localhost:8080/"
        },
        "id": "j1jjGQ3eprxy",
        "outputId": "5fa95048-540b-4582-e9ad-ce3eff6e4ee2"
      },
      "execution_count": 4,
      "outputs": [
        {
          "output_type": "stream",
          "name": "stdout",
          "text": [
            "[10, 2, 3, 4]\n",
            "{'a': 10, 'b': 2, 'c': 3}\n",
            "{1, 3, 4}\n",
            "Hello\n",
            "(10, 2, 3)\n"
          ]
        }
      ]
    },
    {
      "cell_type": "markdown",
      "source": [
        "**Question 4**"
      ],
      "metadata": {
        "id": "1ufIvKLUrOKW"
      }
    },
    {
      "cell_type": "code",
      "source": [
        "# Python provides a rich set of operators that can be used to perform various operations. These operators can be categorized into several types based on their functionality.\n",
        "# 1. Arithmetic Operators\n",
        "# Arithmetic operators are used to perform mathematical operations like addition, subtraction, multiplication, etc.\n",
        "a = 10\n",
        "b = 3\n",
        "\n",
        "print(a + b)\n",
        "print(a - b)\n",
        "print(a * b)\n",
        "print(a / b)\n",
        "print(a % b)\n",
        "print(a ** b)\n",
        "print(a // b)\n",
        "\n",
        "# 2. Comparison Operators\n",
        "# Comparison operators are used to compare two values.\n",
        "a = 10\n",
        "b = 3\n",
        "\n",
        "print(a == b)\n",
        "print(a != b)\n",
        "print(a > b)\n",
        "print(a < b)\n",
        "print(a >= b)\n",
        "print(a <= b)\n",
        "\n",
        "# 3. Logical Operators\n",
        "# Logical operators are used to combine conditional statements.\n",
        "a = True\n",
        "b = False\n",
        "\n",
        "print(a and b)\n",
        "print(a or b)\n",
        "print(not a)\n",
        "\n",
        "# 4. Assignment Operators\n",
        "# Assignment operators are used to assign values to variables.\n",
        "a = 5\n",
        "\n",
        "a += 3\n",
        "print(a)\n",
        "\n",
        "a -= 2\n",
        "print(a)\n",
        "\n",
        "a *= 2\n",
        "print(a)\n",
        "\n",
        "a /= 3\n",
        "print(a)\n",
        "\n",
        "a %= 2\n",
        "print(a)\n",
        "\n",
        "# 5. Bitwise Operators\n",
        "# Bitwise operators are used to perform bit-level operations.\n",
        "a = 10\n",
        "b = 4\n",
        "\n",
        "print(a & b)\n",
        "print(a | b)\n",
        "print(a ^ b)\n",
        "print(~a)\n",
        "print(a << 1)\n",
        "print(a >> 1)\n",
        "\n",
        "# 6. Membership Operators\n",
        "# Membership operators are used to test if a sequence is presented in an object.\n",
        "a = [1, 2, 3, 4, 5]\n",
        "\n",
        "print(3 in a)\n",
        "print(6 in a)\n",
        "print(3 not in a)\n",
        "print(6 not in a)\n"
      ],
      "metadata": {
        "colab": {
          "base_uri": "https://localhost:8080/"
        },
        "id": "dBPtiWn8rRlW",
        "outputId": "394c99b5-7e8e-44ec-a3ba-a9ce0126f6c0"
      },
      "execution_count": 7,
      "outputs": [
        {
          "output_type": "stream",
          "name": "stdout",
          "text": [
            "13\n",
            "7\n",
            "30\n",
            "3.3333333333333335\n",
            "1\n",
            "1000\n",
            "3\n",
            "False\n",
            "True\n",
            "True\n",
            "False\n",
            "True\n",
            "False\n",
            "False\n",
            "True\n",
            "False\n",
            "8\n",
            "6\n",
            "12\n",
            "4.0\n",
            "0.0\n",
            "0\n",
            "14\n",
            "14\n",
            "-11\n",
            "20\n",
            "5\n",
            "True\n",
            "False\n",
            "False\n",
            "True\n"
          ]
        }
      ]
    },
    {
      "cell_type": "markdown",
      "source": [
        "**Question Number 5**"
      ],
      "metadata": {
        "id": "pmxs9F4-s500"
      }
    },
    {
      "cell_type": "code",
      "source": [
        "# Type casting in Python refers to the conversion of one data type into another.\n",
        "# Types of Type Casting\n",
        "# Implicit Type Casting: Automatically performed by Python. It converts smaller data types to larger data types to prevent data loss.\n",
        "# Explicit Type Casting: Manually performed by the programmer to convert data from one type to another.\n",
        "# Implicit Type Casting\n",
        "a = 10\n",
        "b = 3.5\n",
        "c = a + b  # Python automatically converts 'a' to a float\n",
        "print(c)    # Output: 13.5\n",
        "\n",
        "# Explicit Type Casting\n",
        "a = \"10\"\n",
        "b = \"3.5\"\n",
        "c = int(a) + float(b)  # Convert 'a' and 'b' to integers and floats\n",
        "print(type(c))\n"
      ],
      "metadata": {
        "colab": {
          "base_uri": "https://localhost:8080/"
        },
        "id": "NuLBEsIes9f7",
        "outputId": "50e8c8a2-b168-42b1-eb0e-530d342a5dbb"
      },
      "execution_count": 9,
      "outputs": [
        {
          "output_type": "stream",
          "name": "stdout",
          "text": [
            "13.5\n",
            "<class 'float'>\n"
          ]
        }
      ]
    },
    {
      "cell_type": "markdown",
      "source": [
        "**Question 6**"
      ],
      "metadata": {
        "id": "M9i0tR6FvJqS"
      }
    },
    {
      "cell_type": "code",
      "source": [
        "# Conditional statements in Python allow you to execute different blocks of code based on whether certain conditions are true or false. The primary conditional statements in Python are if, elif, and else.\n",
        "# Example If Statement\n",
        "x = 10\n",
        "\n",
        "if x > 5:\n",
        "    print(\"x is greater than 5\")\n",
        "\n",
        "# example if-else statement\n",
        "x = 3\n",
        "\n",
        "if x > 5:\n",
        "    print(\"x is greater than 5\")\n",
        "else:\n",
        "    print(\"x is 5 or less\")\n",
        "\n",
        "# example if,else,elif statement\n",
        "x = 3\n",
        "\n",
        "if x > 5:\n",
        "    print(\"x is greater than 5\")\n",
        "elif x < 5:\n",
        "    print(\"x is less than 5\")\n",
        "else:\n",
        "    print(\"x is 5\")\n",
        "# nested condition\n",
        "x = 8\n",
        "y = 6\n",
        "\n",
        "if x > 5:\n",
        "    if y > 5:\n",
        "        print(\"Both x and y are greater than 5\")\n",
        "    else:\n",
        "        print(\"x is greater than 5 but y is not\")\n",
        "else:\n",
        "    print(\"x is 5 or less\")\n"
      ],
      "metadata": {
        "colab": {
          "base_uri": "https://localhost:8080/"
        },
        "id": "DH6-XHi2vNHq",
        "outputId": "fa73de38-ec6b-4b99-be6f-9813079d405b"
      },
      "execution_count": 10,
      "outputs": [
        {
          "output_type": "stream",
          "name": "stdout",
          "text": [
            "x is greater than 5\n",
            "x is 5 or less\n",
            "x is less than 5\n",
            "Both x and y are greater than 5\n"
          ]
        }
      ]
    },
    {
      "cell_type": "markdown",
      "source": [
        "**Question 7**"
      ],
      "metadata": {
        "id": "cdQ7JGZxwSIE"
      }
    },
    {
      "cell_type": "code",
      "source": [
        "# In Python, there are two primary types of loops: for loops and while loops. Each type of loop is used for different scenarios and offers unique features.\n",
        "\n",
        "# 1. for Loop\n",
        "# The for loop in Python is used to iterate over a sequence (such as a list, tuple, dictionary, set, or string) or other iterable objects. Iteration occurs in the order that items appear in the sequence.\n",
        "fruits = [\"apple\", \"banana\", \"cherry\"]\n",
        "\n",
        "for fruit in fruits:\n",
        "    print(fruit)\n",
        "\n",
        "for i in range(5):\n",
        "    print(i)\n",
        "\n",
        "\n",
        "# 2. while Loop\n",
        "# The while loop in Python is used to repeatedly execute a block of code as long as a specified condition is true.\n",
        "i = 0\n",
        "while i < 5:\n",
        "    print(i)\n",
        "    i += 1\n",
        "\n",
        "number = 10\n",
        "\n",
        "while number > 0:\n",
        "    print(number)\n",
        "    number -= 1\n",
        "    if number == 5:\n",
        "        break\n"
      ],
      "metadata": {
        "colab": {
          "base_uri": "https://localhost:8080/"
        },
        "id": "t2T4DCkCwVMk",
        "outputId": "4ae2e4ad-bb2b-417a-b117-30b846dd58b0"
      },
      "execution_count": 11,
      "outputs": [
        {
          "output_type": "stream",
          "name": "stdout",
          "text": [
            "apple\n",
            "banana\n",
            "cherry\n",
            "0\n",
            "1\n",
            "2\n",
            "3\n",
            "4\n",
            "0\n",
            "1\n",
            "2\n",
            "3\n",
            "4\n",
            "10\n",
            "9\n",
            "8\n",
            "7\n",
            "6\n"
          ]
        }
      ]
    }
  ]
}